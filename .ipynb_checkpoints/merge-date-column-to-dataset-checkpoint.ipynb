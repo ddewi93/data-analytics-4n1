{
 "cells": [
  {
   "cell_type": "code",
   "execution_count": 36,
   "id": "828ed829",
   "metadata": {},
   "outputs": [],
   "source": [
    "import pandas as pd\n",
    "import numpy as np\n",
    "from IPython.display import display\n",
    "import seaborn as sns\n",
    "import matplotlib.pyplot as plt\n",
    "\n",
    "data = pd.read_excel('clean.xls')\n",
    "data_old = pd.read_csv('udemy-old-before-cleaning.csv')"
   ]
  },
  {
   "cell_type": "code",
   "execution_count": 37,
   "id": "1bb98569",
   "metadata": {},
   "outputs": [
    {
     "data": {
      "text/plain": [
       "0       31499\n",
       "1       30531\n",
       "2       29990\n",
       "3       29348\n",
       "4       29167\n",
       "        ...  \n",
       "3535        0\n",
       "3536        0\n",
       "3537        0\n",
       "3538        0\n",
       "3539        0\n",
       "Name: num_subscribers, Length: 3540, dtype: int64"
      ]
     },
     "execution_count": 37,
     "metadata": {},
     "output_type": "execute_result"
    }
   ],
   "source": [
    "data['num_subscribers']"
   ]
  },
  {
   "cell_type": "code",
   "execution_count": 38,
   "id": "9c90be69",
   "metadata": {},
   "outputs": [],
   "source": [
    "data = data.sort_values('num_subscribers', ascending=False)\n",
    "data = data.drop_duplicates(subset='course_id', keep='first')"
   ]
  },
  {
   "cell_type": "code",
   "execution_count": 39,
   "id": "37b163d9",
   "metadata": {},
   "outputs": [
    {
     "data": {
      "text/plain": [
       "0       31499\n",
       "1       30531\n",
       "2       29990\n",
       "3       29348\n",
       "4       29167\n",
       "        ...  \n",
       "3501        0\n",
       "3502        0\n",
       "3503        0\n",
       "3504        0\n",
       "3539        0\n",
       "Name: num_subscribers, Length: 3536, dtype: int64"
      ]
     },
     "execution_count": 39,
     "metadata": {},
     "output_type": "execute_result"
    }
   ],
   "source": [
    "data['num_subscribers']"
   ]
  },
  {
   "cell_type": "code",
   "execution_count": 40,
   "id": "d07f38f2",
   "metadata": {},
   "outputs": [
    {
     "name": "stdout",
     "output_type": "stream",
     "text": [
      "3536\n"
     ]
    }
   ],
   "source": [
    "the_id = data['course_id']\n",
    "id_list = the_id.tolist()\n",
    "print(len(id_list))"
   ]
  },
  {
   "cell_type": "code",
   "execution_count": 41,
   "id": "ce678d97",
   "metadata": {},
   "outputs": [
    {
     "data": {
      "text/plain": [
       "48      31499\n",
       "50      30531\n",
       "51      29990\n",
       "52      29348\n",
       "53      29167\n",
       "        ...  \n",
       "3637        0\n",
       "3638        0\n",
       "3639        0\n",
       "3640        0\n",
       "3675        0\n",
       "Name: num_subscribers, Length: 3536, dtype: int64"
      ]
     },
     "execution_count": 41,
     "metadata": {},
     "output_type": "execute_result"
    }
   ],
   "source": [
    "data_old_filtered = data_old[data_old['course_id'].isin(id_list)]\n",
    "data_old_filtered = data_old_filtered.sort_values('num_subscribers', ascending=False)\n",
    "data_old_filtered = data_old_filtered.drop_duplicates(subset='course_id', keep='first')\n",
    "data_old_filtered['num_subscribers']"
   ]
  },
  {
   "cell_type": "code",
   "execution_count": 42,
   "id": "e23808a9",
   "metadata": {},
   "outputs": [
    {
     "data": {
      "text/plain": [
       "48      2015-12-29\n",
       "50      2015-06-30\n",
       "51      2014-08-10\n",
       "52      2016-11-29\n",
       "53      2014-05-27\n",
       "           ...    \n",
       "3637    2014-03-31\n",
       "3638    2017-03-24\n",
       "3639    2014-04-15\n",
       "3640    2017-05-23\n",
       "3675    2017-06-28\n",
       "Name: Date, Length: 3536, dtype: object"
      ]
     },
     "execution_count": 42,
     "metadata": {},
     "output_type": "execute_result"
    }
   ],
   "source": [
    "data_old_filtered['Date']"
   ]
  },
  {
   "cell_type": "code",
   "execution_count": 43,
   "id": "8a80d796",
   "metadata": {},
   "outputs": [
    {
     "name": "stdout",
     "output_type": "stream",
     "text": [
      "3536\n"
     ]
    }
   ],
   "source": [
    "dates=data_old_filtered['Date'].tolist()\n",
    "print(len(dates))"
   ]
  },
  {
   "cell_type": "code",
   "execution_count": 44,
   "id": "ab47cc81",
   "metadata": {},
   "outputs": [],
   "source": [
    "data['Date'] = dates"
   ]
  },
  {
   "cell_type": "code",
   "execution_count": 47,
   "id": "66802187",
   "metadata": {},
   "outputs": [
    {
     "data": {
      "text/html": [
       "<div>\n",
       "<style scoped>\n",
       "    .dataframe tbody tr th:only-of-type {\n",
       "        vertical-align: middle;\n",
       "    }\n",
       "\n",
       "    .dataframe tbody tr th {\n",
       "        vertical-align: top;\n",
       "    }\n",
       "\n",
       "    .dataframe thead th {\n",
       "        text-align: right;\n",
       "    }\n",
       "</style>\n",
       "<table border=\"1\" class=\"dataframe\">\n",
       "  <thead>\n",
       "    <tr style=\"text-align: right;\">\n",
       "      <th></th>\n",
       "      <th>course_id</th>\n",
       "      <th>price</th>\n",
       "      <th>num_subscribers</th>\n",
       "      <th>num_reviews</th>\n",
       "      <th>num_lectures</th>\n",
       "      <th>rating</th>\n",
       "      <th>content_duration</th>\n",
       "      <th>level</th>\n",
       "      <th>subject</th>\n",
       "      <th>paid</th>\n",
       "    </tr>\n",
       "  </thead>\n",
       "  <tbody>\n",
       "    <tr>\n",
       "      <th>count</th>\n",
       "      <td>3.536000e+03</td>\n",
       "      <td>3536.000000</td>\n",
       "      <td>3536.000000</td>\n",
       "      <td>3536.000000</td>\n",
       "      <td>3536.000000</td>\n",
       "      <td>3536.000000</td>\n",
       "      <td>3536.000000</td>\n",
       "      <td>3536.000000</td>\n",
       "      <td>3536.000000</td>\n",
       "      <td>3536.000000</td>\n",
       "    </tr>\n",
       "    <tr>\n",
       "      <th>mean</th>\n",
       "      <td>6.816935e+05</td>\n",
       "      <td>64.141686</td>\n",
       "      <td>2281.784502</td>\n",
       "      <td>79.965781</td>\n",
       "      <td>34.045814</td>\n",
       "      <td>0.610484</td>\n",
       "      <td>3.364734</td>\n",
       "      <td>1.624152</td>\n",
       "      <td>2.491233</td>\n",
       "      <td>0.918835</td>\n",
       "    </tr>\n",
       "    <tr>\n",
       "      <th>std</th>\n",
       "      <td>3.412144e+05</td>\n",
       "      <td>59.324271</td>\n",
       "      <td>4022.245793</td>\n",
       "      <td>209.707837</td>\n",
       "      <td>29.314838</td>\n",
       "      <td>0.335477</td>\n",
       "      <td>3.366609</td>\n",
       "      <td>0.748690</td>\n",
       "      <td>1.240948</td>\n",
       "      <td>0.273127</td>\n",
       "    </tr>\n",
       "    <tr>\n",
       "      <th>min</th>\n",
       "      <td>8.324000e+03</td>\n",
       "      <td>0.000000</td>\n",
       "      <td>0.000000</td>\n",
       "      <td>0.000000</td>\n",
       "      <td>0.000000</td>\n",
       "      <td>0.000000</td>\n",
       "      <td>0.000000</td>\n",
       "      <td>1.000000</td>\n",
       "      <td>1.000000</td>\n",
       "      <td>0.000000</td>\n",
       "    </tr>\n",
       "    <tr>\n",
       "      <th>25%</th>\n",
       "      <td>4.136892e+05</td>\n",
       "      <td>20.000000</td>\n",
       "      <td>104.000000</td>\n",
       "      <td>4.000000</td>\n",
       "      <td>14.000000</td>\n",
       "      <td>0.270000</td>\n",
       "      <td>1.000000</td>\n",
       "      <td>1.000000</td>\n",
       "      <td>1.000000</td>\n",
       "      <td>1.000000</td>\n",
       "    </tr>\n",
       "    <tr>\n",
       "      <th>50%</th>\n",
       "      <td>6.922220e+05</td>\n",
       "      <td>45.000000</td>\n",
       "      <td>850.500000</td>\n",
       "      <td>17.000000</td>\n",
       "      <td>25.000000</td>\n",
       "      <td>0.760000</td>\n",
       "      <td>2.000000</td>\n",
       "      <td>1.000000</td>\n",
       "      <td>3.000000</td>\n",
       "      <td>1.000000</td>\n",
       "    </tr>\n",
       "    <tr>\n",
       "      <th>75%</th>\n",
       "      <td>9.642080e+05</td>\n",
       "      <td>95.000000</td>\n",
       "      <td>2343.000000</td>\n",
       "      <td>58.000000</td>\n",
       "      <td>43.000000</td>\n",
       "      <td>0.930000</td>\n",
       "      <td>4.000000</td>\n",
       "      <td>2.000000</td>\n",
       "      <td>4.000000</td>\n",
       "      <td>1.000000</td>\n",
       "    </tr>\n",
       "    <tr>\n",
       "      <th>max</th>\n",
       "      <td>1.282064e+06</td>\n",
       "      <td>200.000000</td>\n",
       "      <td>31499.000000</td>\n",
       "      <td>2709.000000</td>\n",
       "      <td>187.000000</td>\n",
       "      <td>1.000000</td>\n",
       "      <td>22.000000</td>\n",
       "      <td>4.000000</td>\n",
       "      <td>4.000000</td>\n",
       "      <td>1.000000</td>\n",
       "    </tr>\n",
       "  </tbody>\n",
       "</table>\n",
       "</div>"
      ],
      "text/plain": [
       "          course_id        price  num_subscribers  num_reviews  num_lectures  \\\n",
       "count  3.536000e+03  3536.000000      3536.000000  3536.000000   3536.000000   \n",
       "mean   6.816935e+05    64.141686      2281.784502    79.965781     34.045814   \n",
       "std    3.412144e+05    59.324271      4022.245793   209.707837     29.314838   \n",
       "min    8.324000e+03     0.000000         0.000000     0.000000      0.000000   \n",
       "25%    4.136892e+05    20.000000       104.000000     4.000000     14.000000   \n",
       "50%    6.922220e+05    45.000000       850.500000    17.000000     25.000000   \n",
       "75%    9.642080e+05    95.000000      2343.000000    58.000000     43.000000   \n",
       "max    1.282064e+06   200.000000     31499.000000  2709.000000    187.000000   \n",
       "\n",
       "            rating  content_duration        level      subject         paid  \n",
       "count  3536.000000       3536.000000  3536.000000  3536.000000  3536.000000  \n",
       "mean      0.610484          3.364734     1.624152     2.491233     0.918835  \n",
       "std       0.335477          3.366609     0.748690     1.240948     0.273127  \n",
       "min       0.000000          0.000000     1.000000     1.000000     0.000000  \n",
       "25%       0.270000          1.000000     1.000000     1.000000     1.000000  \n",
       "50%       0.760000          2.000000     1.000000     3.000000     1.000000  \n",
       "75%       0.930000          4.000000     2.000000     4.000000     1.000000  \n",
       "max       1.000000         22.000000     4.000000     4.000000     1.000000  "
      ]
     },
     "execution_count": 47,
     "metadata": {},
     "output_type": "execute_result"
    }
   ],
   "source": [
    "data.describe()"
   ]
  },
  {
   "cell_type": "code",
   "execution_count": 50,
   "id": "957ebb17",
   "metadata": {},
   "outputs": [],
   "source": [
    "data.to_csv('cleandate.csv', index=False)"
   ]
  },
  {
   "cell_type": "code",
   "execution_count": null,
   "id": "91162a78",
   "metadata": {},
   "outputs": [],
   "source": []
  }
 ],
 "metadata": {
  "kernelspec": {
   "display_name": "Python 3 (ipykernel)",
   "language": "python",
   "name": "python3"
  },
  "language_info": {
   "codemirror_mode": {
    "name": "ipython",
    "version": 3
   },
   "file_extension": ".py",
   "mimetype": "text/x-python",
   "name": "python",
   "nbconvert_exporter": "python",
   "pygments_lexer": "ipython3",
   "version": "3.9.12"
  }
 },
 "nbformat": 4,
 "nbformat_minor": 5
}
