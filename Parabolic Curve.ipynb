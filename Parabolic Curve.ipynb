{
 "cells": [
  {
   "cell_type": "code",
   "execution_count": 37,
   "id": "16ba8351",
   "metadata": {},
   "outputs": [
    {
     "data": {
      "image/png": "[encoded data removed]",
      "text/plain": [
       "<Figure size 432x288 with 1 Axes>"
      ]
     },
     "metadata": {
      "needs_background": "light"
     },
     "output_type": "display_data"
    }
   ],
   "source": [
    "import matplotlib.pyplot as plt\n",
    "import math\n",
    "import numpy as np\n",
    "\n",
    "a = -7.391\n",
    "b = 160.053\n",
    "c = 112.968\n",
    "\n",
    "# calculate delta and zero points\n",
    "delta = b**2 - 4*a*c\n",
    "if delta > 0:\n",
    "    x_1 = (-b + math.sqrt(delta))/(2*a)\n",
    "    x_2 = (-b - math.sqrt(delta))/(2*a)\n",
    "if delta == 0:\n",
    "    x_0 = -b/(2*a)\n",
    "else:\n",
    "    pass\n",
    "\n",
    "# calculate parabola extreme coordinates\n",
    "p = -b/(2*a)\n",
    "q = -delta/(4*a)\n",
    "extreme = [p,q]\n",
    "\n",
    "# define parabola function\n",
    "def parabola(x,a,b,c):\n",
    "    y = a*x**2 + b*x + c\n",
    "    return y\n",
    "\n",
    "# plot function\n",
    "x = np.linspace(int(p)-11,int(p)+13,180)\n",
    "y = parabola(x,a,b,c)\n",
    "plt.plot(x,y, color='#ABC9ED')\n",
    "plt.axhline(y=0, color='slategrey', linestyle='-')\n",
    "plt.axvline(x=0, color='slategrey', linestyle='-')\n",
    "plt.axvline(x = p, color = '#F2ABA9', linestyle = 'dashed', label = \"red line\")\n",
    "#plt.text(p-0.5, q-3, '[' + str(round(p,2)) +',' + str(round(q,2)) + ']',color='orange', fontsize=9)\n",
    "plt.plot(p, q, marker=\"o\")\n",
    "\n",
    "'''if delta > 0:\n",
    "    plt.plot(x_1, 0, marker=\"o\", color='green')\n",
    "    plt.text(x_1 - 0.5, 2, '[' + str(round(x_1,2)) + ']', color='green', fontsize=9)\n",
    "    plt.plot(x_2, 0, marker=\"o\", color='green')\n",
    "    plt.text(x_2 - 0.5, 2, '[' + str(round(x_2,2)) + ']', color='green', fontsize=9)\n",
    "\n",
    "if delta == 0:\n",
    "    plt.plot(x_0, 0, marker=\"o\", color='green')\n",
    "    plt.text(x_0 - 0.5, 2, '[' + str(round(x_0,2)) + ']', color='green', fontsize=9)\n",
    "plt.tick_params(\n",
    "    axis='y',          # changes apply to the x-axis\n",
    "    which='both',      # both major and minor ticks are affected\n",
    "    bottom=False,      # ticks along the bottom edge are off\n",
    "    top=False,         # ticks along the top edge are off\n",
    "    labelbottom=False) # labels along the bottom edge are off'''\n",
    "plt.ylabel(None)\n",
    "plt.savefig('parabola.jpg', dpi=3000) \n",
    "\n",
    "plt.show()"
   ]
  },
  {
   "cell_type": "code",
   "execution_count": 28,
   "id": "41275c2b",
   "metadata": {},
   "outputs": [
    {
     "data": {
      "image/png": "[encoded data removed]",
      "text/plain": [
       "<Figure size 432x288 with 1 Axes>"
      ]
     },
     "metadata": {
      "needs_background": "light"
     },
     "output_type": "display_data"
    }
   ],
   "source": [
    "import matplotlib.pyplot as plt\n",
    "import math\n",
    "import numpy as np\n",
    "\n",
    "a = -0.1\n",
    "b = 38\n",
    "c = 7.95\n",
    "\n",
    "# calculate delta and zero points\n",
    "delta = b**2 - 4*a*c\n",
    "if delta > 0:\n",
    "    x_1 = (-b + math.sqrt(delta))/(2*a)\n",
    "    x_2 = (-b - math.sqrt(delta))/(2*a)\n",
    "if delta == 0:\n",
    "    x_0 = -b/(2*a)\n",
    "else:\n",
    "    pass\n",
    "\n",
    "# calculate parabola extreme coordinates\n",
    "p = -b/(2*a)\n",
    "q = -delta/(4*a)\n",
    "extreme = [p,q]\n",
    "\n",
    "# define parabola function\n",
    "def parabola(x,a,b,c):\n",
    "    y = a*x**2 + b*x + c\n",
    "    return y\n",
    "\n",
    "# plot function\n",
    "x = np.linspace(int(p)-202,int(p)+202,1000)\n",
    "y = parabola(x,a,b,c)\n",
    "plt.plot(x,y, color='#ABC9ED')\n",
    "plt.axhline(y=0, color='slategrey', linestyle='-')\n",
    "plt.axvline(x=0, color='slategrey', linestyle='-')\n",
    "plt.axvline(x = p, color = '#F2ABA9', linestyle = 'dashed', label = \"red line\")\n",
    "#plt.text(p-0.5, q-3, '[' + str(round(p,2)) +',' + str(round(q,2)) + ']',color='orange', fontsize=9)\n",
    "plt.plot(p, q, marker=\"o\")\n",
    "\n",
    "'''if delta > 0:\n",
    "    plt.plot(x_1, 0, marker=\"o\", color='green')\n",
    "    plt.text(x_1 - 0.5, 2, '[' + str(round(x_1,2)) + ']', color='green', fontsize=9)\n",
    "    plt.plot(x_2, 0, marker=\"o\", color='green')\n",
    "    plt.text(x_2 - 0.5, 2, '[' + str(round(x_2,2)) + ']', color='green', fontsize=9)\n",
    "\n",
    "if delta == 0:\n",
    "    plt.plot(x_0, 0, marker=\"o\", color='green')\n",
    "    plt.text(x_0 - 0.5, 2, '[' + str(round(x_0,2)) + ']', color='green', fontsize=9)\n",
    "plt.tick_params(\n",
    "    axis='y',          # changes apply to the x-axis\n",
    "    which='both',      # both major and minor ticks are affected\n",
    "    bottom=False,      # ticks along the bottom edge are off\n",
    "    top=False,         # ticks along the top edge are off\n",
    "    labelbottom=False) # labels along the bottom edge are off'''\n",
    "plt.ylabel(None)\n",
    "plt.savefig('parabola-2nd-revised.jpg', dpi=3000) \n",
    "\n",
    "plt.show()"
   ]
  },
  {
   "cell_type": "code",
   "execution_count": null,
   "id": "bdb63e1e",
   "metadata": {},
   "outputs": [],
   "source": []
  }
 ],
 "metadata": {
  "kernelspec": {
   "display_name": "Python 3 (ipykernel)",
   "language": "python",
   "name": "python3"
  },
  "language_info": {
   "codemirror_mode": {
    "name": "ipython",
    "version": 3
   },
   "file_extension": ".py",
   "mimetype": "text/x-python",
   "name": "python",
   "nbconvert_exporter": "python",
   "pygments_lexer": "ipython3",
   "version": "3.9.12"
  }
 },
 "nbformat": 4,
 "nbformat_minor": 5
}
