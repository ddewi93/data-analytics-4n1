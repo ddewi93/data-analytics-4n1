{
 "cells": [
  {
   "cell_type": "code",
   "execution_count": 1,
   "id": "828ed829",
   "metadata": {},
   "outputs": [
    {
     "data": {
      "text/html": [
       "<div>\n",
       "<style scoped>\n",
       "    .dataframe tbody tr th:only-of-type {\n",
       "        vertical-align: middle;\n",
       "    }\n",
       "\n",
       "    .dataframe tbody tr th {\n",
       "        vertical-align: top;\n",
       "    }\n",
       "\n",
       "    .dataframe thead th {\n",
       "        text-align: right;\n",
       "    }\n",
       "</style>\n",
       "<table border=\"1\" class=\"dataframe\">\n",
       "  <thead>\n",
       "    <tr style=\"text-align: right;\">\n",
       "      <th></th>\n",
       "      <th>course_id</th>\n",
       "      <th>price</th>\n",
       "      <th>num_subscribers</th>\n",
       "      <th>num_reviews</th>\n",
       "      <th>num_lectures</th>\n",
       "      <th>rating</th>\n",
       "      <th>content_duration</th>\n",
       "      <th>level</th>\n",
       "      <th>subject</th>\n",
       "      <th>paid</th>\n",
       "    </tr>\n",
       "  </thead>\n",
       "  <tbody>\n",
       "    <tr>\n",
       "      <th>0</th>\n",
       "      <td>695656</td>\n",
       "      <td>195</td>\n",
       "      <td>31499</td>\n",
       "      <td>450</td>\n",
       "      <td>46</td>\n",
       "      <td>0.76</td>\n",
       "      <td>4.0</td>\n",
       "      <td>2</td>\n",
       "      <td>4</td>\n",
       "      <td>1</td>\n",
       "    </tr>\n",
       "    <tr>\n",
       "      <th>1</th>\n",
       "      <td>511934</td>\n",
       "      <td>0</td>\n",
       "      <td>30531</td>\n",
       "      <td>1948</td>\n",
       "      <td>53</td>\n",
       "      <td>0.78</td>\n",
       "      <td>3.0</td>\n",
       "      <td>1</td>\n",
       "      <td>4</td>\n",
       "      <td>0</td>\n",
       "    </tr>\n",
       "    <tr>\n",
       "      <th>2</th>\n",
       "      <td>267560</td>\n",
       "      <td>0</td>\n",
       "      <td>29990</td>\n",
       "      <td>1342</td>\n",
       "      <td>87</td>\n",
       "      <td>0.95</td>\n",
       "      <td>17.5</td>\n",
       "      <td>2</td>\n",
       "      <td>4</td>\n",
       "      <td>0</td>\n",
       "    </tr>\n",
       "    <tr>\n",
       "      <th>3</th>\n",
       "      <td>866460</td>\n",
       "      <td>195</td>\n",
       "      <td>29348</td>\n",
       "      <td>780</td>\n",
       "      <td>66</td>\n",
       "      <td>0.31</td>\n",
       "      <td>3.0</td>\n",
       "      <td>2</td>\n",
       "      <td>4</td>\n",
       "      <td>1</td>\n",
       "    </tr>\n",
       "    <tr>\n",
       "      <th>4</th>\n",
       "      <td>151668</td>\n",
       "      <td>0</td>\n",
       "      <td>29167</td>\n",
       "      <td>1463</td>\n",
       "      <td>8</td>\n",
       "      <td>0.18</td>\n",
       "      <td>1.5</td>\n",
       "      <td>1</td>\n",
       "      <td>1</td>\n",
       "      <td>0</td>\n",
       "    </tr>\n",
       "  </tbody>\n",
       "</table>\n",
       "</div>"
      ],
      "text/plain": [
       "   course_id  price  num_subscribers  num_reviews  num_lectures  rating  \\\n",
       "0     695656    195            31499          450            46    0.76   \n",
       "1     511934      0            30531         1948            53    0.78   \n",
       "2     267560      0            29990         1342            87    0.95   \n",
       "3     866460    195            29348          780            66    0.31   \n",
       "4     151668      0            29167         1463             8    0.18   \n",
       "\n",
       "   content_duration  level  subject  paid  \n",
       "0               4.0      2        4     1  \n",
       "1               3.0      1        4     0  \n",
       "2              17.5      2        4     0  \n",
       "3               3.0      2        4     1  \n",
       "4               1.5      1        1     0  "
      ]
     },
     "execution_count": 1,
     "metadata": {},
     "output_type": "execute_result"
    }
   ],
   "source": [
    "import pandas as pd\n",
    "import numpy as np\n",
    "from IPython.display import display\n",
    "import seaborn as sns\n",
    "import matplotlib.pyplot as plt\n",
    "\n",
    "data = pd.read_excel('clean-udemy.xls')\n",
    "data = pd.read_csv('udemy-old.csv')\n",
    "data.head(5)"
   ]
  },
  {
   "cell_type": "code",
   "execution_count": 2,
   "id": "1bb98569",
   "metadata": {},
   "outputs": [
    {
     "data": {
      "text/plain": [
       "course_id             int64\n",
       "price                 int64\n",
       "num_subscribers       int64\n",
       "num_reviews           int64\n",
       "num_lectures          int64\n",
       "rating              float64\n",
       "content_duration    float64\n",
       "level                 int64\n",
       "subject               int64\n",
       "paid                  int64\n",
       "dtype: object"
      ]
     },
     "execution_count": 2,
     "metadata": {},
     "output_type": "execute_result"
    }
   ],
   "source": [
    "data.dtypes"
   ]
  },
  {
   "cell_type": "code",
   "execution_count": null,
   "id": "c33801bd",
   "metadata": {},
   "outputs": [],
   "source": []
  }
 ],
 "metadata": {
  "kernelspec": {
   "display_name": "Python 3 (ipykernel)",
   "language": "python",
   "name": "python3"
  },
  "language_info": {
   "codemirror_mode": {
    "name": "ipython",
    "version": 3
   },
   "file_extension": ".py",
   "mimetype": "text/x-python",
   "name": "python",
   "nbconvert_exporter": "python",
   "pygments_lexer": "ipython3",
   "version": "3.9.12"
  }
 },
 "nbformat": 4,
 "nbformat_minor": 5
}
