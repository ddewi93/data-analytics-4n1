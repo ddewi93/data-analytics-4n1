{
 "cells": [
  {
   "cell_type": "code",
   "execution_count": 34,
   "id": "81116e68",
   "metadata": {},
   "outputs": [
    {
     "data": {
      "text/html": [
       "<div>\n",
       "<style scoped>\n",
       "    .dataframe tbody tr th:only-of-type {\n",
       "        vertical-align: middle;\n",
       "    }\n",
       "\n",
       "    .dataframe tbody tr th {\n",
       "        vertical-align: top;\n",
       "    }\n",
       "\n",
       "    .dataframe thead th {\n",
       "        text-align: right;\n",
       "    }\n",
       "</style>\n",
       "<table border=\"1\" class=\"dataframe\">\n",
       "  <thead>\n",
       "    <tr style=\"text-align: right;\">\n",
       "      <th></th>\n",
       "      <th>course_id</th>\n",
       "      <th>price</th>\n",
       "      <th>num_subscribers</th>\n",
       "      <th>num_reviews</th>\n",
       "      <th>num_lectures</th>\n",
       "      <th>rating</th>\n",
       "      <th>content_duration</th>\n",
       "      <th>level</th>\n",
       "      <th>subject</th>\n",
       "      <th>paid</th>\n",
       "      <th>Date</th>\n",
       "      <th>Revenue</th>\n",
       "    </tr>\n",
       "  </thead>\n",
       "  <tbody>\n",
       "    <tr>\n",
       "      <th>0</th>\n",
       "      <td>695656</td>\n",
       "      <td>195</td>\n",
       "      <td>31499</td>\n",
       "      <td>450</td>\n",
       "      <td>46</td>\n",
       "      <td>0.76</td>\n",
       "      <td>4.0</td>\n",
       "      <td>2</td>\n",
       "      <td>4</td>\n",
       "      <td>1</td>\n",
       "      <td>735961</td>\n",
       "      <td>6142305</td>\n",
       "    </tr>\n",
       "    <tr>\n",
       "      <th>1</th>\n",
       "      <td>511934</td>\n",
       "      <td>0</td>\n",
       "      <td>30531</td>\n",
       "      <td>1948</td>\n",
       "      <td>53</td>\n",
       "      <td>0.78</td>\n",
       "      <td>3.0</td>\n",
       "      <td>1</td>\n",
       "      <td>4</td>\n",
       "      <td>0</td>\n",
       "      <td>735779</td>\n",
       "      <td>0</td>\n",
       "    </tr>\n",
       "    <tr>\n",
       "      <th>2</th>\n",
       "      <td>267560</td>\n",
       "      <td>0</td>\n",
       "      <td>29990</td>\n",
       "      <td>1342</td>\n",
       "      <td>87</td>\n",
       "      <td>0.95</td>\n",
       "      <td>17.5</td>\n",
       "      <td>2</td>\n",
       "      <td>4</td>\n",
       "      <td>0</td>\n",
       "      <td>735455</td>\n",
       "      <td>0</td>\n",
       "    </tr>\n",
       "    <tr>\n",
       "      <th>3</th>\n",
       "      <td>866460</td>\n",
       "      <td>195</td>\n",
       "      <td>29348</td>\n",
       "      <td>780</td>\n",
       "      <td>66</td>\n",
       "      <td>0.31</td>\n",
       "      <td>3.0</td>\n",
       "      <td>2</td>\n",
       "      <td>4</td>\n",
       "      <td>1</td>\n",
       "      <td>736297</td>\n",
       "      <td>5722860</td>\n",
       "    </tr>\n",
       "    <tr>\n",
       "      <th>4</th>\n",
       "      <td>151668</td>\n",
       "      <td>0</td>\n",
       "      <td>29167</td>\n",
       "      <td>1463</td>\n",
       "      <td>8</td>\n",
       "      <td>0.18</td>\n",
       "      <td>1.5</td>\n",
       "      <td>1</td>\n",
       "      <td>1</td>\n",
       "      <td>0</td>\n",
       "      <td>735380</td>\n",
       "      <td>0</td>\n",
       "    </tr>\n",
       "  </tbody>\n",
       "</table>\n",
       "</div>"
      ],
      "text/plain": [
       "   course_id  price  num_subscribers  num_reviews  num_lectures  rating  \\\n",
       "0     695656    195            31499          450            46    0.76   \n",
       "1     511934      0            30531         1948            53    0.78   \n",
       "2     267560      0            29990         1342            87    0.95   \n",
       "3     866460    195            29348          780            66    0.31   \n",
       "4     151668      0            29167         1463             8    0.18   \n",
       "\n",
       "   content_duration  level  subject  paid    Date  Revenue  \n",
       "0               4.0      2        4     1  735961  6142305  \n",
       "1               3.0      1        4     0  735779        0  \n",
       "2              17.5      2        4     0  735455        0  \n",
       "3               3.0      2        4     1  736297  5722860  \n",
       "4               1.5      1        1     0  735380        0  "
      ]
     },
     "execution_count": 34,
     "metadata": {},
     "output_type": "execute_result"
    }
   ],
   "source": [
    "import pandas as pd\n",
    "import numpy as np\n",
    "from IPython.display import display\n",
    "import seaborn as sns\n",
    "import matplotlib.pyplot as plt\n",
    "from sklearn.linear_model import LinearRegression, Ridge, Lasso\n",
    "from sklearn.model_selection import train_test_split\n",
    "import datetime as dt\n",
    "from sklearn.metrics import mean_squared_error\n",
    "from sklearn.model_selection import cross_val_score, KFold\n",
    "\n",
    "data = pd.read_csv('cleandate.csv')\n",
    "data['Date'] = pd.to_datetime(data['Date'])\n",
    "data['Date']=data['Date'].map(dt.datetime.toordinal)\n",
    "data['Revenue'] = data['price'] * data['num_subscribers']\n",
    "data.head(5)"
   ]
  },
  {
   "cell_type": "code",
   "execution_count": 35,
   "id": "1dec7dc9",
   "metadata": {},
   "outputs": [],
   "source": [
    "data_business = data[data['subject']==1]\n",
    "data_design = data[data['subject']==2]\n",
    "data_music = data[data['subject']==3]\n",
    "data_web = data[data['subject']==4]"
   ]
  },
  {
   "cell_type": "code",
   "execution_count": 3,
   "id": "6354d4ae",
   "metadata": {},
   "outputs": [
    {
     "data": {
      "text/html": [
       "<div>\n",
       "<style scoped>\n",
       "    .dataframe tbody tr th:only-of-type {\n",
       "        vertical-align: middle;\n",
       "    }\n",
       "\n",
       "    .dataframe tbody tr th {\n",
       "        vertical-align: top;\n",
       "    }\n",
       "\n",
       "    .dataframe thead th {\n",
       "        text-align: right;\n",
       "    }\n",
       "</style>\n",
       "<table border=\"1\" class=\"dataframe\">\n",
       "  <thead>\n",
       "    <tr style=\"text-align: right;\">\n",
       "      <th></th>\n",
       "      <th>course_id</th>\n",
       "      <th>price</th>\n",
       "      <th>num_subscribers</th>\n",
       "      <th>num_reviews</th>\n",
       "      <th>num_lectures</th>\n",
       "      <th>rating</th>\n",
       "      <th>content_duration</th>\n",
       "      <th>level</th>\n",
       "      <th>subject</th>\n",
       "      <th>paid</th>\n",
       "      <th>Date</th>\n",
       "      <th>Revenue</th>\n",
       "    </tr>\n",
       "  </thead>\n",
       "  <tbody>\n",
       "    <tr>\n",
       "      <th>count</th>\n",
       "      <td>3.536000e+03</td>\n",
       "      <td>3536.000000</td>\n",
       "      <td>3536.000000</td>\n",
       "      <td>3536.000000</td>\n",
       "      <td>3536.000000</td>\n",
       "      <td>3536.000000</td>\n",
       "      <td>3536.000000</td>\n",
       "      <td>3536.000000</td>\n",
       "      <td>3536.000000</td>\n",
       "      <td>3536.000000</td>\n",
       "      <td>3536.000000</td>\n",
       "      <td>3.536000e+03</td>\n",
       "    </tr>\n",
       "    <tr>\n",
       "      <th>mean</th>\n",
       "      <td>6.816935e+05</td>\n",
       "      <td>64.141686</td>\n",
       "      <td>2281.784502</td>\n",
       "      <td>79.965781</td>\n",
       "      <td>34.045814</td>\n",
       "      <td>0.610484</td>\n",
       "      <td>3.364734</td>\n",
       "      <td>1.624152</td>\n",
       "      <td>2.491233</td>\n",
       "      <td>0.918835</td>\n",
       "      <td>735936.002545</td>\n",
       "      <td>1.643454e+05</td>\n",
       "    </tr>\n",
       "    <tr>\n",
       "      <th>std</th>\n",
       "      <td>3.412144e+05</td>\n",
       "      <td>59.324271</td>\n",
       "      <td>4022.245793</td>\n",
       "      <td>209.707837</td>\n",
       "      <td>29.314838</td>\n",
       "      <td>0.335477</td>\n",
       "      <td>3.366609</td>\n",
       "      <td>0.748690</td>\n",
       "      <td>1.240948</td>\n",
       "      <td>0.273127</td>\n",
       "      <td>408.943748</td>\n",
       "      <td>4.619525e+05</td>\n",
       "    </tr>\n",
       "    <tr>\n",
       "      <th>min</th>\n",
       "      <td>8.324000e+03</td>\n",
       "      <td>0.000000</td>\n",
       "      <td>0.000000</td>\n",
       "      <td>0.000000</td>\n",
       "      <td>0.000000</td>\n",
       "      <td>0.000000</td>\n",
       "      <td>0.000000</td>\n",
       "      <td>1.000000</td>\n",
       "      <td>1.000000</td>\n",
       "      <td>0.000000</td>\n",
       "      <td>734327.000000</td>\n",
       "      <td>0.000000e+00</td>\n",
       "    </tr>\n",
       "    <tr>\n",
       "      <th>25%</th>\n",
       "      <td>4.136892e+05</td>\n",
       "      <td>20.000000</td>\n",
       "      <td>104.000000</td>\n",
       "      <td>4.000000</td>\n",
       "      <td>14.000000</td>\n",
       "      <td>0.270000</td>\n",
       "      <td>1.000000</td>\n",
       "      <td>1.000000</td>\n",
       "      <td>1.000000</td>\n",
       "      <td>1.000000</td>\n",
       "      <td>735683.750000</td>\n",
       "      <td>1.560000e+03</td>\n",
       "    </tr>\n",
       "    <tr>\n",
       "      <th>50%</th>\n",
       "      <td>6.922220e+05</td>\n",
       "      <td>45.000000</td>\n",
       "      <td>850.500000</td>\n",
       "      <td>17.000000</td>\n",
       "      <td>25.000000</td>\n",
       "      <td>0.760000</td>\n",
       "      <td>2.000000</td>\n",
       "      <td>1.000000</td>\n",
       "      <td>3.000000</td>\n",
       "      <td>1.000000</td>\n",
       "      <td>735995.000000</td>\n",
       "      <td>2.172000e+04</td>\n",
       "    </tr>\n",
       "    <tr>\n",
       "      <th>75%</th>\n",
       "      <td>9.642080e+05</td>\n",
       "      <td>95.000000</td>\n",
       "      <td>2343.000000</td>\n",
       "      <td>58.000000</td>\n",
       "      <td>43.000000</td>\n",
       "      <td>0.930000</td>\n",
       "      <td>4.000000</td>\n",
       "      <td>2.000000</td>\n",
       "      <td>4.000000</td>\n",
       "      <td>1.000000</td>\n",
       "      <td>736269.250000</td>\n",
       "      <td>1.092750e+05</td>\n",
       "    </tr>\n",
       "    <tr>\n",
       "      <th>max</th>\n",
       "      <td>1.282064e+06</td>\n",
       "      <td>200.000000</td>\n",
       "      <td>31499.000000</td>\n",
       "      <td>2709.000000</td>\n",
       "      <td>187.000000</td>\n",
       "      <td>1.000000</td>\n",
       "      <td>22.000000</td>\n",
       "      <td>4.000000</td>\n",
       "      <td>4.000000</td>\n",
       "      <td>1.000000</td>\n",
       "      <td>736516.000000</td>\n",
       "      <td>6.142305e+06</td>\n",
       "    </tr>\n",
       "  </tbody>\n",
       "</table>\n",
       "</div>"
      ],
      "text/plain": [
       "          course_id        price  num_subscribers  num_reviews  num_lectures  \\\n",
       "count  3.536000e+03  3536.000000      3536.000000  3536.000000   3536.000000   \n",
       "mean   6.816935e+05    64.141686      2281.784502    79.965781     34.045814   \n",
       "std    3.412144e+05    59.324271      4022.245793   209.707837     29.314838   \n",
       "min    8.324000e+03     0.000000         0.000000     0.000000      0.000000   \n",
       "25%    4.136892e+05    20.000000       104.000000     4.000000     14.000000   \n",
       "50%    6.922220e+05    45.000000       850.500000    17.000000     25.000000   \n",
       "75%    9.642080e+05    95.000000      2343.000000    58.000000     43.000000   \n",
       "max    1.282064e+06   200.000000     31499.000000  2709.000000    187.000000   \n",
       "\n",
       "            rating  content_duration        level      subject         paid  \\\n",
       "count  3536.000000       3536.000000  3536.000000  3536.000000  3536.000000   \n",
       "mean      0.610484          3.364734     1.624152     2.491233     0.918835   \n",
       "std       0.335477          3.366609     0.748690     1.240948     0.273127   \n",
       "min       0.000000          0.000000     1.000000     1.000000     0.000000   \n",
       "25%       0.270000          1.000000     1.000000     1.000000     1.000000   \n",
       "50%       0.760000          2.000000     1.000000     3.000000     1.000000   \n",
       "75%       0.930000          4.000000     2.000000     4.000000     1.000000   \n",
       "max       1.000000         22.000000     4.000000     4.000000     1.000000   \n",
       "\n",
       "                Date       Revenue  \n",
       "count    3536.000000  3.536000e+03  \n",
       "mean   735936.002545  1.643454e+05  \n",
       "std       408.943748  4.619525e+05  \n",
       "min    734327.000000  0.000000e+00  \n",
       "25%    735683.750000  1.560000e+03  \n",
       "50%    735995.000000  2.172000e+04  \n",
       "75%    736269.250000  1.092750e+05  \n",
       "max    736516.000000  6.142305e+06  "
      ]
     },
     "execution_count": 3,
     "metadata": {},
     "output_type": "execute_result"
    }
   ],
   "source": [
    "data.describe()"
   ]
  },
  {
   "cell_type": "code",
   "execution_count": 36,
   "id": "bf3f1e44",
   "metadata": {},
   "outputs": [
    {
     "data": {
      "image/png": "[encoded data removed]",
      "text/plain": [
       "<Figure size 432x288 with 1 Axes>"
      ]
     },
     "metadata": {
      "needs_background": "light"
     },
     "output_type": "display_data"
    }
   ],
   "source": [
    "ax = sns.boxplot(data=data['price'],  color='#ABC9ED')\n",
    "plt.xlabel('Price', fontsize=10)\n",
    "plt.show()"
   ]
  },
  {
   "cell_type": "code",
   "execution_count": 38,
   "id": "8654511e",
   "metadata": {},
   "outputs": [
    {
     "data": {
      "image/png": "[encoded data removed]",
      "text/plain": [
       "<Figure size 432x288 with 1 Axes>"
      ]
     },
     "metadata": {
      "needs_background": "light"
     },
     "output_type": "display_data"
    }
   ],
   "source": [
    "ax = sns.boxplot(data=data['num_subscribers'], color='#F2ABA9')\n",
    "plt.xlabel('Subscribers')\n",
    "plt.show()"
   ]
  },
  {
   "cell_type": "code",
   "execution_count": 43,
   "id": "d1ff4f28",
   "metadata": {},
   "outputs": [
    {
     "data": {
      "image/png": "[encoded data removed]",
      "text/plain": [
       "<Figure size 432x288 with 1 Axes>"
      ]
     },
     "metadata": {
      "needs_background": "light"
     },
     "output_type": "display_data"
    }
   ],
   "source": [
    "ax = sns.boxplot(data=data['num_reviews'],  color='#F1B792')\n",
    "plt.xlabel('Reviews')\n",
    "plt.show()"
   ]
  },
  {
   "cell_type": "code",
   "execution_count": 44,
   "id": "4d3f59b1",
   "metadata": {},
   "outputs": [
    {
     "data": {
      "image/png": "[encoded data removed]",
      "text/plain": [
       "<Figure size 432x288 with 1 Axes>"
      ]
     },
     "metadata": {
      "needs_background": "light"
     },
     "output_type": "display_data"
    }
   ],
   "source": [
    "ax = sns.boxplot(data=data['rating'],  color='#F2ABA9')\n",
    "plt.xlabel('Rating')\n",
    "plt.show()"
   ]
  },
  {
   "cell_type": "code",
   "execution_count": 41,
   "id": "7db6733e",
   "metadata": {},
   "outputs": [
    {
     "data": {
      "image/png": "[encoded data removed]",
      "text/plain": [
       "<Figure size 432x288 with 1 Axes>"
      ]
     },
     "metadata": {
      "needs_background": "light"
     },
     "output_type": "display_data"
    }
   ],
   "source": [
    "ax = sns.boxplot(data=data['num_lectures'], color='#97D9A9')\n",
    "plt.xlabel('Lectures Number')\n",
    "plt.show()"
   ]
  },
  {
   "cell_type": "code",
   "execution_count": 42,
   "id": "e3e39618",
   "metadata": {},
   "outputs": [
    {
     "data": {
      "image/png": "[encoded data removed]",
      "text/plain": [
       "<Figure size 432x288 with 1 Axes>"
      ]
     },
     "metadata": {
      "needs_background": "light"
     },
     "output_type": "display_data"
    }
   ],
   "source": [
    "ax = sns.boxplot(data=data['content_duration'], color='#ABC9ED')\n",
    "plt.xlabel('Duration')\n",
    "plt.show()"
   ]
  },
  {
   "cell_type": "code",
   "execution_count": 11,
   "id": "562c6943",
   "metadata": {},
   "outputs": [
    {
     "ename": "TypeError",
     "evalue": "The DType <class 'numpy.dtype[datetime64]'> could not be promoted by <class 'numpy.dtype[float64]'>. This means that no common DType exists for the given inputs. For example they cannot be stored in a single array unless the dtype is `object`. The full list of DTypes is: (<class 'numpy.dtype[datetime64]'>, <class 'numpy.dtype[float64]'>)",
     "output_type": "error",
     "traceback": [
      "\u001b[0;31m---------------------------------------------------------------------------\u001b[0m",
      "\u001b[0;31mTypeError\u001b[0m                                 Traceback (most recent call last)",
      "Input \u001b[0;32mIn [11]\u001b[0m, in \u001b[0;36m<cell line: 14>\u001b[0;34m()\u001b[0m\n\u001b[1;32m     11\u001b[0m reg\u001b[38;5;241m.\u001b[39mfit(X_train, y_train)\n\u001b[1;32m     13\u001b[0m \u001b[38;5;66;03m# Make predictions\u001b[39;00m\n\u001b[0;32m---> 14\u001b[0m y_pred \u001b[38;5;241m=\u001b[39m \u001b[43mreg\u001b[49m\u001b[38;5;241;43m.\u001b[39;49m\u001b[43mpredict\u001b[49m\u001b[43m(\u001b[49m\u001b[43mX_test\u001b[49m\u001b[43m)\u001b[49m\n\u001b[1;32m     15\u001b[0m \u001b[38;5;28mprint\u001b[39m(\u001b[38;5;124m\"\u001b[39m\u001b[38;5;124mPredictions: \u001b[39m\u001b[38;5;132;01m{}\u001b[39;00m\u001b[38;5;124m, Actual Values: \u001b[39m\u001b[38;5;132;01m{}\u001b[39;00m\u001b[38;5;124m\"\u001b[39m\u001b[38;5;241m.\u001b[39mformat(y_pred[:\u001b[38;5;241m2\u001b[39m], y_test[:\u001b[38;5;241m2\u001b[39m]))\n\u001b[1;32m     17\u001b[0m plt\u001b[38;5;241m.\u001b[39mscatter(X, y,color\u001b[38;5;241m=\u001b[39m\u001b[38;5;124m'\u001b[39m\u001b[38;5;124mg\u001b[39m\u001b[38;5;124m'\u001b[39m)\n",
      "File \u001b[0;32m~/opt/anaconda3/lib/python3.9/site-packages/sklearn/linear_model/_base.py:362\u001b[0m, in \u001b[0;36mLinearModel.predict\u001b[0;34m(self, X)\u001b[0m\n\u001b[1;32m    348\u001b[0m \u001b[38;5;28;01mdef\u001b[39;00m \u001b[38;5;21mpredict\u001b[39m(\u001b[38;5;28mself\u001b[39m, X):\n\u001b[1;32m    349\u001b[0m     \u001b[38;5;124;03m\"\"\"\u001b[39;00m\n\u001b[1;32m    350\u001b[0m \u001b[38;5;124;03m    Predict using the linear model.\u001b[39;00m\n\u001b[1;32m    351\u001b[0m \n\u001b[0;32m   (...)\u001b[0m\n\u001b[1;32m    360\u001b[0m \u001b[38;5;124;03m        Returns predicted values.\u001b[39;00m\n\u001b[1;32m    361\u001b[0m \u001b[38;5;124;03m    \"\"\"\u001b[39;00m\n\u001b[0;32m--> 362\u001b[0m     \u001b[38;5;28;01mreturn\u001b[39;00m \u001b[38;5;28;43mself\u001b[39;49m\u001b[38;5;241;43m.\u001b[39;49m\u001b[43m_decision_function\u001b[49m\u001b[43m(\u001b[49m\u001b[43mX\u001b[49m\u001b[43m)\u001b[49m\n",
      "File \u001b[0;32m~/opt/anaconda3/lib/python3.9/site-packages/sklearn/linear_model/_base.py:346\u001b[0m, in \u001b[0;36mLinearModel._decision_function\u001b[0;34m(self, X)\u001b[0m\n\u001b[1;32m    343\u001b[0m check_is_fitted(\u001b[38;5;28mself\u001b[39m)\n\u001b[1;32m    345\u001b[0m X \u001b[38;5;241m=\u001b[39m \u001b[38;5;28mself\u001b[39m\u001b[38;5;241m.\u001b[39m_validate_data(X, accept_sparse\u001b[38;5;241m=\u001b[39m[\u001b[38;5;124m\"\u001b[39m\u001b[38;5;124mcsr\u001b[39m\u001b[38;5;124m\"\u001b[39m, \u001b[38;5;124m\"\u001b[39m\u001b[38;5;124mcsc\u001b[39m\u001b[38;5;124m\"\u001b[39m, \u001b[38;5;124m\"\u001b[39m\u001b[38;5;124mcoo\u001b[39m\u001b[38;5;124m\"\u001b[39m], reset\u001b[38;5;241m=\u001b[39m\u001b[38;5;28;01mFalse\u001b[39;00m)\n\u001b[0;32m--> 346\u001b[0m \u001b[38;5;28;01mreturn\u001b[39;00m \u001b[43msafe_sparse_dot\u001b[49m\u001b[43m(\u001b[49m\u001b[43mX\u001b[49m\u001b[43m,\u001b[49m\u001b[43m \u001b[49m\u001b[38;5;28;43mself\u001b[39;49m\u001b[38;5;241;43m.\u001b[39;49m\u001b[43mcoef_\u001b[49m\u001b[38;5;241;43m.\u001b[39;49m\u001b[43mT\u001b[49m\u001b[43m,\u001b[49m\u001b[43m \u001b[49m\u001b[43mdense_output\u001b[49m\u001b[38;5;241;43m=\u001b[39;49m\u001b[38;5;28;43;01mTrue\u001b[39;49;00m\u001b[43m)\u001b[49m \u001b[38;5;241m+\u001b[39m \u001b[38;5;28mself\u001b[39m\u001b[38;5;241m.\u001b[39mintercept_\n",
      "File \u001b[0;32m~/opt/anaconda3/lib/python3.9/site-packages/sklearn/utils/extmath.py:153\u001b[0m, in \u001b[0;36msafe_sparse_dot\u001b[0;34m(a, b, dense_output)\u001b[0m\n\u001b[1;32m    151\u001b[0m         ret \u001b[38;5;241m=\u001b[39m np\u001b[38;5;241m.\u001b[39mdot(a, b)\n\u001b[1;32m    152\u001b[0m \u001b[38;5;28;01melse\u001b[39;00m:\n\u001b[0;32m--> 153\u001b[0m     ret \u001b[38;5;241m=\u001b[39m \u001b[43ma\u001b[49m\u001b[43m \u001b[49m\u001b[38;5;241;43m@\u001b[39;49m\u001b[43m \u001b[49m\u001b[43mb\u001b[49m\n\u001b[1;32m    155\u001b[0m \u001b[38;5;28;01mif\u001b[39;00m (\n\u001b[1;32m    156\u001b[0m     sparse\u001b[38;5;241m.\u001b[39missparse(a)\n\u001b[1;32m    157\u001b[0m     \u001b[38;5;129;01mand\u001b[39;00m sparse\u001b[38;5;241m.\u001b[39missparse(b)\n\u001b[1;32m    158\u001b[0m     \u001b[38;5;129;01mand\u001b[39;00m dense_output\n\u001b[1;32m    159\u001b[0m     \u001b[38;5;129;01mand\u001b[39;00m \u001b[38;5;28mhasattr\u001b[39m(ret, \u001b[38;5;124m\"\u001b[39m\u001b[38;5;124mtoarray\u001b[39m\u001b[38;5;124m\"\u001b[39m)\n\u001b[1;32m    160\u001b[0m ):\n\u001b[1;32m    161\u001b[0m     \u001b[38;5;28;01mreturn\u001b[39;00m ret\u001b[38;5;241m.\u001b[39mtoarray()\n",
      "\u001b[0;31mTypeError\u001b[0m: The DType <class 'numpy.dtype[datetime64]'> could not be promoted by <class 'numpy.dtype[float64]'>. This means that no common DType exists for the given inputs. For example they cannot be stored in a single array unless the dtype is `object`. The full list of DTypes is: (<class 'numpy.dtype[datetime64]'>, <class 'numpy.dtype[float64]'>)"
     ]
    }
   ],
   "source": [
    "# Create X and y arrays\n",
    "X = data[\"Date\"].values.reshape(-1, 1)\n",
    "y = data[\"Revenue\"].values\n",
    "\n",
    "X_train, X_test, y_train, y_test = train_test_split(X, y, test_size=0.3, random_state=42)\n",
    "\n",
    "# Instantiate the model\n",
    "reg = LinearRegression()\n",
    "\n",
    "# Fit the model to the data\n",
    "reg.fit(X_train, y_train)\n",
    "\n",
    "# Make predictions\n",
    "y_pred = reg.predict(X_test)\n",
    "print(\"Predictions: {}, Actual Values: {}\".format(y_pred[:2], y_test[:2]))\n",
    "\n",
    "plt.scatter(X, y,color='g')\n",
    "plt.plot(X_test, y_pred, color='k')\n",
    "\n",
    "plt.show()\n",
    "\n",
    "print(reg.coef_)\n",
    "print(reg.intercept_)"
   ]
  },
  {
   "cell_type": "code",
   "execution_count": 5,
   "id": "4bfb6270",
   "metadata": {},
   "outputs": [
    {
     "name": "stdout",
     "output_type": "stream",
     "text": [
      "R^2: -0.0013421716779893345\n",
      "RMSE: 518082.23399982986\n"
     ]
    }
   ],
   "source": [
    "# Compute R-squared\n",
    "r_squared = reg.score(X_test, y_test)\n",
    "\n",
    "# Compute RMSE\n",
    "rmse = mean_squared_error(y_test, y_pred, squared=False)\n",
    "\n",
    "# Print the metrics\n",
    "print(\"R^2: {}\".format(r_squared))\n",
    "print(\"RMSE: {}\".format(rmse))"
   ]
  },
  {
   "cell_type": "code",
   "execution_count": 6,
   "id": "2e0ac494",
   "metadata": {},
   "outputs": [
    {
     "name": "stdout",
     "output_type": "stream",
     "text": [
      "[ 0.00339115  0.00119249 -0.01814845 -0.00087361 -0.00256015]\n",
      "-0.0033997137356648333\n",
      "0.007639571701501412\n",
      "[-0.01658962  0.00317128]\n"
     ]
    }
   ],
   "source": [
    "# Create a KFold object\n",
    "kf = KFold(n_splits=5, shuffle=True, random_state=5)\n",
    "\n",
    "# Compute 5-fold cross-validation scores\n",
    "cv_scores = cross_val_score(reg, X, y, cv=kf)\n",
    "\n",
    "# Print scores\n",
    "print(cv_scores)\n",
    "\n",
    "# Print the mean\n",
    "print(np.mean(cv_scores))\n",
    "\n",
    "# Print the standard deviation\n",
    "print(np.std(cv_scores))\n",
    "\n",
    "# Print the 95% confidence interval\n",
    "print(np.quantile(cv_scores, [0.025, 0.975]))"
   ]
  },
  {
   "cell_type": "code",
   "execution_count": 7,
   "id": "c242d183",
   "metadata": {},
   "outputs": [
    {
     "name": "stdout",
     "output_type": "stream",
     "text": [
      "[-0.0013421716784411952, -0.001342171682507498, -0.0013421717231667518, -0.0013421721297615097, -0.0013421761957002065, -0.0013422168543291146]\n"
     ]
    }
   ],
   "source": [
    "alphas = [0.1, 1.0, 10.0, 100.0, 1000.0, 10000.0]\n",
    "ridge_scores = []\n",
    "for alpha in alphas:\n",
    "  \n",
    "  # Create a Ridge regression model\n",
    "  ridge = Ridge(alpha=alpha)\n",
    "  \n",
    "  # Fit the data\n",
    "  ridge.fit(X_train, y_train)\n",
    "  \n",
    "  # Obtain R-squared\n",
    "  score = ridge.score(X_test, y_test)\n",
    "  ridge_scores.append(score)\n",
    "    \n",
    "print(ridge_scores)#underfitting does not occur because they are stable"
   ]
  },
  {
   "cell_type": "code",
   "execution_count": 54,
   "id": "f6d6de98",
   "metadata": {},
   "outputs": [
    {
     "name": "stdout",
     "output_type": "stream",
     "text": [
      "Predictions: [ 72506.08522812 115097.5267956 ], Actual Values: [  6200 102150]\n"
     ]
    },
    {
     "data": {
      "image/png": "[encoded data removed]",
      "text/plain": [
       "<Figure size 432x288 with 1 Axes>"
      ]
     },
     "metadata": {
      "needs_background": "light"
     },
     "output_type": "display_data"
    },
    {
     "name": "stdout",
     "output_type": "stream",
     "text": [
      "[-69.82203536]\n",
      "51480725.16736274\n"
     ]
    }
   ],
   "source": [
    "#Business\n",
    "# Create X and y arrays\n",
    "X = data_business[\"Date\"].values.reshape(-1, 1)\n",
    "y = data_business[\"Revenue\"].values\n",
    "\n",
    "X_train, X_test, y_train, y_test = train_test_split(X, y, test_size=0.3, random_state=42)\n",
    "\n",
    "# Instantiate the model\n",
    "reg_bus = LinearRegression()\n",
    "\n",
    "# Fit the model to the data\n",
    "reg_bus.fit(X_train, y_train)\n",
    "\n",
    "# Make predictions\n",
    "y_pred = reg_bus.predict(X_test)\n",
    "print(\"Predictions: {}, Actual Values: {}\".format(y_pred[:2], y_test[:2]))\n",
    "\n",
    "plt.scatter(X, y,color='g')\n",
    "plt.plot(X_test, y_pred, color='k')\n",
    "\n",
    "plt.show()\n",
    "\n",
    "print(reg_bus.coef_)\n",
    "print(reg_bus.intercept_)"
   ]
  },
  {
   "cell_type": "code",
   "execution_count": 43,
   "id": "acdc9073",
   "metadata": {},
   "outputs": [
    {
     "name": "stdout",
     "output_type": "stream",
     "text": [
      "R^2: -0.0317373433364323\n",
      "RMSE: 87127.84106826832\n"
     ]
    }
   ],
   "source": [
    "# Compute R-squared\n",
    "r_squared = reg.score(X_test, y_test)\n",
    "\n",
    "# Compute RMSE\n",
    "rmse = mean_squared_error(y_test, y_pred, squared=False)\n",
    "\n",
    "# Print the metrics\n",
    "print(\"R^2: {}\".format(r_squared))\n",
    "print(\"RMSE: {}\".format(rmse))"
   ]
  },
  {
   "cell_type": "code",
   "execution_count": 51,
   "id": "2904584f",
   "metadata": {},
   "outputs": [
    {
     "name": "stdout",
     "output_type": "stream",
     "text": [
      "Predictions: [271306.37955582 512307.25815246], Actual Values: [ 24300 249160]\n"
     ]
    },
    {
     "data": {
      "image/png": "[encoded data removed]",
      "text/plain": [
       "<Figure size 432x288 with 1 Axes>"
      ]
     },
     "metadata": {
      "needs_background": "light"
     },
     "output_type": "display_data"
    },
    {
     "name": "stdout",
     "output_type": "stream",
     "text": [
      "[-117.84884039]\n",
      "87059199.30299927\n"
     ]
    }
   ],
   "source": [
    "# Data web\n",
    "# Create X and y arrays\n",
    "X = data_web[\"Date\"].values.reshape(-1, 1)\n",
    "y = data_web[\"Revenue\"].values\n",
    "\n",
    "X_train, X_test, y_train, y_test = train_test_split(X, y, test_size=0.3, random_state=42)\n",
    "\n",
    "# Instantiate the model\n",
    "reg_web = LinearRegression()\n",
    "\n",
    "# Fit the model to the data\n",
    "reg_web.fit(X_train, y_train)\n",
    "\n",
    "# Make predictions\n",
    "y_pred = reg_web.predict(X_test)\n",
    "print(\"Predictions: {}, Actual Values: {}\".format(y_pred[:2], y_test[:2]))\n",
    "\n",
    "plt.scatter(X, y,color='g')\n",
    "plt.plot(X_test, y_pred, color='k')\n",
    "\n",
    "plt.show()\n",
    "\n",
    "print(reg_web.coef_)\n",
    "print(reg_web.intercept_)"
   ]
  },
  {
   "cell_type": "code",
   "execution_count": 53,
   "id": "7ce28431",
   "metadata": {},
   "outputs": [
    {
     "name": "stdout",
     "output_type": "stream",
     "text": [
      "Predictions: [94032.07867977 92993.72079961], Actual Values: [  100 10550]\n"
     ]
    },
    {
     "data": {
      "image/png": "[encoded data removed]",
      "text/plain": [
       "<Figure size 432x288 with 1 Axes>"
      ]
     },
     "metadata": {
      "needs_background": "light"
     },
     "output_type": "display_data"
    },
    {
     "name": "stdout",
     "output_type": "stream",
     "text": [
      "[-69.82203536]\n",
      "51480725.16736274\n"
     ]
    }
   ],
   "source": [
    "#Data design\n",
    "# Create X and y arrays\n",
    "X = data_design[\"Date\"].values.reshape(-1, 1)\n",
    "y = data_design[\"Revenue\"].values\n",
    "\n",
    "X_train, X_test, y_train, y_test = train_test_split(X, y, test_size=0.3, random_state=42)\n",
    "\n",
    "# Instantiate the model\n",
    "reg_design = LinearRegression()\n",
    "\n",
    "# Fit the model to the data\n",
    "reg_design.fit(X_train, y_train)\n",
    "\n",
    "# Make predictions\n",
    "y_pred = reg_design.predict(X_test)\n",
    "print(\"Predictions: {}, Actual Values: {}\".format(y_pred[:2], y_test[:2]))\n",
    "\n",
    "plt.scatter(X, y,color='g')\n",
    "plt.plot(X_test, y_pred, color='k')\n",
    "\n",
    "plt.show()\n",
    "\n",
    "print(reg.coef_)\n",
    "print(reg.intercept_)"
   ]
  },
  {
   "cell_type": "code",
   "execution_count": 52,
   "id": "f20db288",
   "metadata": {},
   "outputs": [
    {
     "name": "stdout",
     "output_type": "stream",
     "text": [
      "Predictions: [66879.80749398 45159.05864635], Actual Values: [  150 18320]\n"
     ]
    },
    {
     "data": {
      "image/png": "[encoded data removed]",
      "text/plain": [
       "<Figure size 432x288 with 1 Axes>"
      ]
     },
     "metadata": {
      "needs_background": "light"
     },
     "output_type": "display_data"
    },
    {
     "name": "stdout",
     "output_type": "stream",
     "text": [
      "[-33.11089763]\n",
      "24415309.49132273\n"
     ]
    }
   ],
   "source": [
    "# Data music \n",
    "# Create X and y arrays\n",
    "X = data_music[\"Date\"].values.reshape(-1, 1)\n",
    "y = data_music[\"Revenue\"].values\n",
    "\n",
    "X_train, X_test, y_train, y_test = train_test_split(X, y, test_size=0.3, random_state=42)\n",
    "\n",
    "# Instantiate the model\n",
    "reg_music = LinearRegression()\n",
    "\n",
    "# Fit the model to the data\n",
    "reg_music.fit(X_train, y_train)\n",
    "\n",
    "# Make predictions\n",
    "y_pred = reg_music.predict(X_test)\n",
    "print(\"Predictions: {}, Actual Values: {}\".format(y_pred[:2], y_test[:2]))\n",
    "\n",
    "plt.scatter(X, y,color='g')\n",
    "plt.plot(X_test, y_pred, color='k')\n",
    "\n",
    "plt.show()\n",
    "\n",
    "print(reg_music.coef_)\n",
    "print(reg_music.intercept_)"
   ]
  },
  {
   "cell_type": "code",
   "execution_count": null,
   "id": "1dd931b0",
   "metadata": {},
   "outputs": [],
   "source": []
  }
 ],
 "metadata": {
  "kernelspec": {
   "display_name": "Python 3 (ipykernel)",
   "language": "python",
   "name": "python3"
  },
  "language_info": {
   "codemirror_mode": {
    "name": "ipython",
    "version": 3
   },
   "file_extension": ".py",
   "mimetype": "text/x-python",
   "name": "python",
   "nbconvert_exporter": "python",
   "pygments_lexer": "ipython3",
   "version": "3.9.12"
  }
 },
 "nbformat": 4,
 "nbformat_minor": 5
}
